{
 "cells": [
  {
   "cell_type": "markdown",
   "metadata": {},
   "source": [
    "# Dictionary Assignment"
   ]
  },
  {
   "cell_type": "markdown",
   "metadata": {},
   "source": [
    "### Q1 Python program to Add a Key-Value Pair to the Dictionary\n"
   ]
  },
  {
   "cell_type": "code",
   "execution_count": 1,
   "metadata": {},
   "outputs": [
    {
     "name": "stdout",
     "output_type": "stream",
     "text": [
      "Enter Key: name\n",
      "Enter Key Value: Nauman\n",
      "Updated Dictionary With Key Value Pair: \n",
      "{'name': 'Nauman'}\n"
     ]
    }
   ],
   "source": [
    "key=input(\"Enter Key: \")\n",
    "value=input(\"Enter Key Value: \")\n",
    "dict={}\n",
    "dict.update({key:value})\n",
    "print('Updated Dictionary With Key Value Pair: ')\n",
    "print(dict)"
   ]
  },
  {
   "cell_type": "markdown",
   "metadata": {},
   "source": [
    "### Q2 Python Program to Concatenate Two Dictionaries into One"
   ]
  },
  {
   "cell_type": "code",
   "execution_count": 2,
   "metadata": {},
   "outputs": [
    {
     "name": "stdout",
     "output_type": "stream",
     "text": [
      "Concatenated Dictionary: \n",
      "{'A': 1, 'B': 2, 'C': 3, 'D': 4}\n"
     ]
    }
   ],
   "source": [
    "dict1={'A':1,'B':2}\n",
    "dict2={'C':3,'D':4}\n",
    "dict1.update(dict2)\n",
    "print('Concatenated Dictionary: ')\n",
    "print(dict1)"
   ]
  },
  {
   "cell_type": "markdown",
   "metadata": {},
   "source": [
    "### Q3 Python program to Check if a Given Key Exists in a Dictionary or Not"
   ]
  },
  {
   "cell_type": "code",
   "execution_count": 5,
   "metadata": {},
   "outputs": [
    {
     "name": "stdout",
     "output_type": "stream",
     "text": [
      "Enter Key to check key value: y\n",
      "Key is present and Value of key is:  2\n"
     ]
    }
   ],
   "source": [
    "dict={'x':1,'y':2,'z':3}\n",
    "key=input('Enter Key to check key value: ')\n",
    "if key in dict.keys():\n",
    "    print('Key is present and Value of key is: ',dict[key])\n",
    "else:\n",
    "    print('Key is Not present in the dictionary')"
   ]
  },
  {
   "cell_type": "markdown",
   "metadata": {},
   "source": [
    "### Q4 Python Program to Generate a Dictionary that contains Numbers (between 1 and n) in the form(x,x*x)."
   ]
  },
  {
   "cell_type": "code",
   "execution_count": 6,
   "metadata": {},
   "outputs": [
    {
     "name": "stdout",
     "output_type": "stream",
     "text": [
      "Enter Number: 6\n",
      "{1: 1, 2: 4, 3: 9, 4: 16, 5: 25, 6: 36}\n"
     ]
    }
   ],
   "source": [
    "n=int(input('Enter Number: '))\n",
    "dict={i:i*i for i in range(1,n+1)}\n",
    "print(dict)"
   ]
  },
  {
   "cell_type": "markdown",
   "metadata": {},
   "source": [
    "### Q5 Python Program to Sum All the items in a Dictionary"
   ]
  },
  {
   "cell_type": "code",
   "execution_count": 7,
   "metadata": {},
   "outputs": [
    {
     "name": "stdout",
     "output_type": "stream",
     "text": [
      "Total Sum of Dictionary Values are:  370\n"
     ]
    }
   ],
   "source": [
    "sumdict={'A':25,'B':50,'C':100,'D':195}\n",
    "total=sum(sumdict.values())\n",
    "print('Total Sum of Dictionary Values are: ',total)"
   ]
  },
  {
   "cell_type": "markdown",
   "metadata": {},
   "source": [
    "### Q6 Python Program to Multiply All the items in Dictionary."
   ]
  },
  {
   "cell_type": "code",
   "execution_count": 8,
   "metadata": {},
   "outputs": [
    {
     "name": "stdout",
     "output_type": "stream",
     "text": [
      "The Multiplication of all the Items:  24375000\n"
     ]
    }
   ],
   "source": [
    "muldict={'A':25,'B':50,'C':100,'D':195}\n",
    "mul=1\n",
    "for i in muldict:\n",
    "    mul=mul*muldict[i]\n",
    "print('The Multiplication of all the Items: ',mul)"
   ]
  },
  {
   "cell_type": "markdown",
   "metadata": {},
   "source": [
    "### Q7 Python Program to Remove the Given key from a Dictionary"
   ]
  },
  {
   "cell_type": "code",
   "execution_count": null,
   "metadata": {},
   "outputs": [
    {
     "name": "stdout",
     "output_type": "stream",
     "text": [
      "Dictionary is:  {'A': 25, 'B': 50, 'C': 100, 'D': 195, 'E': 150, 'F': 40}\n"
     ]
    }
   ],
   "source": [
    "dictd={'A':25,'B':50,'C':100,'D':195,'E':150,'F':40}\n",
    "print('Dictionary is: ',dictd)\n",
    "dkey=input('Ente Key to Delete (A-F): ')\n",
    "if dkey in dictd:\n",
    "    del dictd[dkey]\n",
    "else:\n",
    "    print('Key Not Found')\n",
    "    exit(0)\n",
    "print('New Dictionary: After Deleted Value: ',dictd)"
   ]
  }
 ],
 "metadata": {
  "kernelspec": {
   "display_name": "Python 3",
   "language": "python",
   "name": "python3"
  },
  "language_info": {
   "codemirror_mode": {
    "name": "ipython",
    "version": 3
   },
   "file_extension": ".py",
   "mimetype": "text/x-python",
   "name": "python",
   "nbconvert_exporter": "python",
   "pygments_lexer": "ipython3",
   "version": "3.7.3"
  }
 },
 "nbformat": 4,
 "nbformat_minor": 2
}
